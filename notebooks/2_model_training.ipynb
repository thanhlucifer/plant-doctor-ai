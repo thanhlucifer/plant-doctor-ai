{
 "cells": [
  {
   "cell_type": "code",
   "execution_count": null,
   "id": "7b9640c0-b47d-4eee-9a8d-fccdc5ae724c",
   "metadata": {},
   "outputs": [],
   "source": [
    "# === 1. IMPORT CÁC THƯ VIỆN CẦN THIẾT ===\n",
    "import tensorflow as tf\n",
    "import matplotlib.pyplot as plt\n",
    "import numpy as np\n",
    "import os\n",
    "\n",
    "# === 2. THIẾT LẬP CÁC ĐƯỜNG DẪN DỮ LIỆU ===\n",
    "# Lưu ý: Vì notebook đang ở trong thư mục /notebooks, chúng ta dùng ../ để đi ra ngoài một cấp\n",
    "base_dir = '../data/New Plant Diseases Dataset(Augmented)/New Plant Diseases Dataset(Augmented)/'\n",
    "train_dir = os.path.join(base_dir, 'train')\n",
    "valid_dir = os.path.join(base_dir, 'valid')\n",
    "\n",
    "# === 3. TẠO CÁC BỘ DỮ LIỆU (DATA GENERATORS) ===\n",
    "# Keras ImageDataGenerator sẽ giúp chúng ta tải ảnh từ các thư mục,\n",
    "# đồng thời tự động gán nhãn dựa trên tên thư mục.\n",
    "\n",
    "# Áp dụng một vài phép tăng cường dữ liệu (data augmentation) cho tập train\n",
    "# để giúp mô hình học tốt hơn và tránh học vẹt\n",
    "train_datagen = tf.keras.preprocessing.image.ImageDataGenerator(\n",
    "    rescale=1./255, # Chuẩn hóa giá trị pixel về khoảng [0, 1]\n",
    "    rotation_range=40,\n",
    "    width_shift_range=0.2,\n",
    "    height_shift_range=0.2,\n",
    "    shear_range=0.2,\n",
    "    zoom_range=0.2,\n",
    "    horizontal_flip=True,\n",
    "    fill_mode='nearest'\n",
    ")\n",
    "\n",
    "# Không cần tăng cường dữ liệu cho tập validation\n",
    "validation_datagen = tf.keras.preprocessing.image.ImageDataGenerator(rescale=1./255)\n",
    "\n",
    "# Tạo các generator\n",
    "train_generator = train_datagen.flow_from_directory(\n",
    "    train_dir,\n",
    "    target_size=(224, 224), # Thay đổi kích thước tất cả ảnh về 224x224\n",
    "    batch_size=32,\n",
    "    class_mode='categorical' # Vì chúng ta có nhiều lớp bệnh\n",
    ")\n",
    "\n",
    "validation_generator = validation_datagen.flow_from_directory(\n",
    "    valid_dir,\n",
    "    target_size=(224, 224),\n",
    "    batch_size=32,\n",
    "    class_mode='categorical'\n",
    ")\n",
    "\n",
    "# === 4. HIỂN THỊ THỬ MỘT VÀI ẢNH ===\n",
    "# Lấy một lô (batch) ảnh từ generator\n",
    "for image_batch, label_batch in train_generator:\n",
    "    print(\"Kích thước lô ảnh:\", image_batch.shape)\n",
    "    print(\"Kích thước lô nhãn:\", label_batch.shape)\n",
    "    break\n",
    "\n",
    "# Lấy ra tên của các lớp bệnh\n",
    "class_names = list(train_generator.class_indices.keys())\n",
    "\n",
    "# Hiển thị 9 ảnh đầu tiên trong lô\n",
    "plt.figure(figsize=(10, 10))\n",
    "for i in range(9):\n",
    "    ax = plt.subplot(3, 3, i + 1)\n",
    "    plt.imshow(image_batch[i])\n",
    "    # Tìm tên lớp tương ứng với one-hot vector\n",
    "    class_index = np.argmax(label_batch[i])\n",
    "    plt.title(class_names[class_index].split('___')[1].replace('_', ' '))\n",
    "    plt.axis(\"off\")\n",
    "plt.show()"
   ]
  },
  {
   "cell_type": "code",
   "execution_count": null,
   "id": "4402e0d8-a037-4ad3-9fd4-cddd675c253d",
   "metadata": {},
   "outputs": [],
   "source": [
    "# === CHẠY CELL NÀY ĐỂ TẠO FILE JSON ===\n",
    "import json\n",
    "\n",
    "# Lấy \"cuốn từ điển\" từ train_generator vừa được tạo\n",
    "class_indices = train_generator.class_indices\n",
    "\n",
    "# Lưu vào file json trong thư mục artifacts\n",
    "file_path = '../artifacts/class_indices.json'\n",
    "with open(file_path, 'w') as f:\n",
    "    json.dump(class_indices, f)\n",
    "\n",
    "print(f\"Đã lưu thành công danh sách lớp vào: {file_path}\")\n",
    "print(\"Bây giờ bạn có thể đóng Jupyter Notebook.\")"
   ]
  },
  {
   "cell_type": "code",
   "execution_count": 4,
   "id": "22068124-2123-4494-bfd6-ba64aed539ed",
   "metadata": {},
   "outputs": [
    {
     "data": {
      "text/html": [
       "<pre style=\"white-space:pre;overflow-x:auto;line-height:normal;font-family:Menlo,'DejaVu Sans Mono',consolas,'Courier New',monospace\"><span style=\"font-weight: bold\">Model: \"sequential\"</span>\n",
       "</pre>\n"
      ],
      "text/plain": [
       "\u001b[1mModel: \"sequential\"\u001b[0m\n"
      ]
     },
     "metadata": {},
     "output_type": "display_data"
    },
    {
     "data": {
      "text/html": [
       "<pre style=\"white-space:pre;overflow-x:auto;line-height:normal;font-family:Menlo,'DejaVu Sans Mono',consolas,'Courier New',monospace\">┏━━━━━━━━━━━━━━━━━━━━━━━━━━━━━━━━━━━━━━┳━━━━━━━━━━━━━━━━━━━━━━━━━━━━━┳━━━━━━━━━━━━━━━━━┓\n",
       "┃<span style=\"font-weight: bold\"> Layer (type)                         </span>┃<span style=\"font-weight: bold\"> Output Shape                </span>┃<span style=\"font-weight: bold\">         Param # </span>┃\n",
       "┡━━━━━━━━━━━━━━━━━━━━━━━━━━━━━━━━━━━━━━╇━━━━━━━━━━━━━━━━━━━━━━━━━━━━━╇━━━━━━━━━━━━━━━━━┩\n",
       "│ mobilenetv2_1.00_224 (<span style=\"color: #0087ff; text-decoration-color: #0087ff\">Functional</span>)    │ (<span style=\"color: #00d7ff; text-decoration-color: #00d7ff\">None</span>, <span style=\"color: #00af00; text-decoration-color: #00af00\">7</span>, <span style=\"color: #00af00; text-decoration-color: #00af00\">7</span>, <span style=\"color: #00af00; text-decoration-color: #00af00\">1280</span>)          │       <span style=\"color: #00af00; text-decoration-color: #00af00\">2,257,984</span> │\n",
       "├──────────────────────────────────────┼─────────────────────────────┼─────────────────┤\n",
       "│ global_average_pooling2d             │ (<span style=\"color: #00d7ff; text-decoration-color: #00d7ff\">None</span>, <span style=\"color: #00af00; text-decoration-color: #00af00\">1280</span>)                │               <span style=\"color: #00af00; text-decoration-color: #00af00\">0</span> │\n",
       "│ (<span style=\"color: #0087ff; text-decoration-color: #0087ff\">GlobalAveragePooling2D</span>)             │                             │                 │\n",
       "├──────────────────────────────────────┼─────────────────────────────┼─────────────────┤\n",
       "│ dense (<span style=\"color: #0087ff; text-decoration-color: #0087ff\">Dense</span>)                        │ (<span style=\"color: #00d7ff; text-decoration-color: #00d7ff\">None</span>, <span style=\"color: #00af00; text-decoration-color: #00af00\">128</span>)                 │         <span style=\"color: #00af00; text-decoration-color: #00af00\">163,968</span> │\n",
       "├──────────────────────────────────────┼─────────────────────────────┼─────────────────┤\n",
       "│ dropout (<span style=\"color: #0087ff; text-decoration-color: #0087ff\">Dropout</span>)                    │ (<span style=\"color: #00d7ff; text-decoration-color: #00d7ff\">None</span>, <span style=\"color: #00af00; text-decoration-color: #00af00\">128</span>)                 │               <span style=\"color: #00af00; text-decoration-color: #00af00\">0</span> │\n",
       "├──────────────────────────────────────┼─────────────────────────────┼─────────────────┤\n",
       "│ dense_1 (<span style=\"color: #0087ff; text-decoration-color: #0087ff\">Dense</span>)                      │ (<span style=\"color: #00d7ff; text-decoration-color: #00d7ff\">None</span>, <span style=\"color: #00af00; text-decoration-color: #00af00\">38</span>)                  │           <span style=\"color: #00af00; text-decoration-color: #00af00\">4,902</span> │\n",
       "└──────────────────────────────────────┴─────────────────────────────┴─────────────────┘\n",
       "</pre>\n"
      ],
      "text/plain": [
       "┏━━━━━━━━━━━━━━━━━━━━━━━━━━━━━━━━━━━━━━┳━━━━━━━━━━━━━━━━━━━━━━━━━━━━━┳━━━━━━━━━━━━━━━━━┓\n",
       "┃\u001b[1m \u001b[0m\u001b[1mLayer (type)                        \u001b[0m\u001b[1m \u001b[0m┃\u001b[1m \u001b[0m\u001b[1mOutput Shape               \u001b[0m\u001b[1m \u001b[0m┃\u001b[1m \u001b[0m\u001b[1m        Param #\u001b[0m\u001b[1m \u001b[0m┃\n",
       "┡━━━━━━━━━━━━━━━━━━━━━━━━━━━━━━━━━━━━━━╇━━━━━━━━━━━━━━━━━━━━━━━━━━━━━╇━━━━━━━━━━━━━━━━━┩\n",
       "│ mobilenetv2_1.00_224 (\u001b[38;5;33mFunctional\u001b[0m)    │ (\u001b[38;5;45mNone\u001b[0m, \u001b[38;5;34m7\u001b[0m, \u001b[38;5;34m7\u001b[0m, \u001b[38;5;34m1280\u001b[0m)          │       \u001b[38;5;34m2,257,984\u001b[0m │\n",
       "├──────────────────────────────────────┼─────────────────────────────┼─────────────────┤\n",
       "│ global_average_pooling2d             │ (\u001b[38;5;45mNone\u001b[0m, \u001b[38;5;34m1280\u001b[0m)                │               \u001b[38;5;34m0\u001b[0m │\n",
       "│ (\u001b[38;5;33mGlobalAveragePooling2D\u001b[0m)             │                             │                 │\n",
       "├──────────────────────────────────────┼─────────────────────────────┼─────────────────┤\n",
       "│ dense (\u001b[38;5;33mDense\u001b[0m)                        │ (\u001b[38;5;45mNone\u001b[0m, \u001b[38;5;34m128\u001b[0m)                 │         \u001b[38;5;34m163,968\u001b[0m │\n",
       "├──────────────────────────────────────┼─────────────────────────────┼─────────────────┤\n",
       "│ dropout (\u001b[38;5;33mDropout\u001b[0m)                    │ (\u001b[38;5;45mNone\u001b[0m, \u001b[38;5;34m128\u001b[0m)                 │               \u001b[38;5;34m0\u001b[0m │\n",
       "├──────────────────────────────────────┼─────────────────────────────┼─────────────────┤\n",
       "│ dense_1 (\u001b[38;5;33mDense\u001b[0m)                      │ (\u001b[38;5;45mNone\u001b[0m, \u001b[38;5;34m38\u001b[0m)                  │           \u001b[38;5;34m4,902\u001b[0m │\n",
       "└──────────────────────────────────────┴─────────────────────────────┴─────────────────┘\n"
      ]
     },
     "metadata": {},
     "output_type": "display_data"
    },
    {
     "data": {
      "text/html": [
       "<pre style=\"white-space:pre;overflow-x:auto;line-height:normal;font-family:Menlo,'DejaVu Sans Mono',consolas,'Courier New',monospace\"><span style=\"font-weight: bold\"> Total params: </span><span style=\"color: #00af00; text-decoration-color: #00af00\">2,426,854</span> (9.26 MB)\n",
       "</pre>\n"
      ],
      "text/plain": [
       "\u001b[1m Total params: \u001b[0m\u001b[38;5;34m2,426,854\u001b[0m (9.26 MB)\n"
      ]
     },
     "metadata": {},
     "output_type": "display_data"
    },
    {
     "data": {
      "text/html": [
       "<pre style=\"white-space:pre;overflow-x:auto;line-height:normal;font-family:Menlo,'DejaVu Sans Mono',consolas,'Courier New',monospace\"><span style=\"font-weight: bold\"> Trainable params: </span><span style=\"color: #00af00; text-decoration-color: #00af00\">168,870</span> (659.65 KB)\n",
       "</pre>\n"
      ],
      "text/plain": [
       "\u001b[1m Trainable params: \u001b[0m\u001b[38;5;34m168,870\u001b[0m (659.65 KB)\n"
      ]
     },
     "metadata": {},
     "output_type": "display_data"
    },
    {
     "data": {
      "text/html": [
       "<pre style=\"white-space:pre;overflow-x:auto;line-height:normal;font-family:Menlo,'DejaVu Sans Mono',consolas,'Courier New',monospace\"><span style=\"font-weight: bold\"> Non-trainable params: </span><span style=\"color: #00af00; text-decoration-color: #00af00\">2,257,984</span> (8.61 MB)\n",
       "</pre>\n"
      ],
      "text/plain": [
       "\u001b[1m Non-trainable params: \u001b[0m\u001b[38;5;34m2,257,984\u001b[0m (8.61 MB)\n"
      ]
     },
     "metadata": {},
     "output_type": "display_data"
    },
    {
     "name": "stdout",
     "output_type": "stream",
     "text": [
      "\n",
      "Bắt đầu quá trình huấn luyện...\n"
     ]
    },
    {
     "name": "stderr",
     "output_type": "stream",
     "text": [
      "E:\\AI traning\\plant-doctor-ai\\venv\\Lib\\site-packages\\keras\\src\\trainers\\data_adapters\\py_dataset_adapter.py:121: UserWarning: Your `PyDataset` class should call `super().__init__(**kwargs)` in its constructor. `**kwargs` can include `workers`, `use_multiprocessing`, `max_queue_size`. Do not pass these arguments to `fit()`, as they will be ignored.\n",
      "  self._warn_if_super_not_called()\n"
     ]
    },
    {
     "name": "stdout",
     "output_type": "stream",
     "text": [
      "Epoch 1/10\n",
      "\u001b[1m2197/2197\u001b[0m \u001b[32m━━━━━━━━━━━━━━━━━━━━\u001b[0m\u001b[37m\u001b[0m \u001b[1m5472s\u001b[0m 2s/step - accuracy: 0.5361 - loss: 1.6092 - val_accuracy: 0.8673 - val_loss: 0.4064\n",
      "Epoch 2/10\n",
      "\u001b[1m2197/2197\u001b[0m \u001b[32m━━━━━━━━━━━━━━━━━━━━\u001b[0m\u001b[37m\u001b[0m \u001b[1m3575s\u001b[0m 2s/step - accuracy: 0.7833 - loss: 0.6754 - val_accuracy: 0.8903 - val_loss: 0.3261\n",
      "Epoch 3/10\n",
      "\u001b[1m2197/2197\u001b[0m \u001b[32m━━━━━━━━━━━━━━━━━━━━\u001b[0m\u001b[37m\u001b[0m \u001b[1m3191s\u001b[0m 1s/step - accuracy: 0.8085 - loss: 0.5897 - val_accuracy: 0.8988 - val_loss: 0.2994\n",
      "Epoch 4/10\n",
      "\u001b[1m2197/2197\u001b[0m \u001b[32m━━━━━━━━━━━━━━━━━━━━\u001b[0m\u001b[37m\u001b[0m \u001b[1m2892s\u001b[0m 1s/step - accuracy: 0.8165 - loss: 0.5632 - val_accuracy: 0.9008 - val_loss: 0.2987\n",
      "Epoch 5/10\n",
      "\u001b[1m2197/2197\u001b[0m \u001b[32m━━━━━━━━━━━━━━━━━━━━\u001b[0m\u001b[37m\u001b[0m \u001b[1m3017s\u001b[0m 1s/step - accuracy: 0.8263 - loss: 0.5247 - val_accuracy: 0.9087 - val_loss: 0.2765\n",
      "Epoch 6/10\n",
      "\u001b[1m2197/2197\u001b[0m \u001b[32m━━━━━━━━━━━━━━━━━━━━\u001b[0m\u001b[37m\u001b[0m \u001b[1m2895s\u001b[0m 1s/step - accuracy: 0.8335 - loss: 0.5101 - val_accuracy: 0.9110 - val_loss: 0.2619\n",
      "Epoch 7/10\n",
      "\u001b[1m2197/2197\u001b[0m \u001b[32m━━━━━━━━━━━━━━━━━━━━\u001b[0m\u001b[37m\u001b[0m \u001b[1m2909s\u001b[0m 1s/step - accuracy: 0.8381 - loss: 0.4961 - val_accuracy: 0.9123 - val_loss: 0.2578\n",
      "Epoch 8/10\n",
      "\u001b[1m2197/2197\u001b[0m \u001b[32m━━━━━━━━━━━━━━━━━━━━\u001b[0m\u001b[37m\u001b[0m \u001b[1m2899s\u001b[0m 1s/step - accuracy: 0.8411 - loss: 0.4926 - val_accuracy: 0.9159 - val_loss: 0.2472\n",
      "Epoch 9/10\n",
      "\u001b[1m2197/2197\u001b[0m \u001b[32m━━━━━━━━━━━━━━━━━━━━\u001b[0m\u001b[37m\u001b[0m \u001b[1m2955s\u001b[0m 1s/step - accuracy: 0.8437 - loss: 0.4777 - val_accuracy: 0.9120 - val_loss: 0.2580\n",
      "Epoch 10/10\n",
      "\u001b[1m2197/2197\u001b[0m \u001b[32m━━━━━━━━━━━━━━━━━━━━\u001b[0m\u001b[37m\u001b[0m \u001b[1m2923s\u001b[0m 1s/step - accuracy: 0.8473 - loss: 0.4687 - val_accuracy: 0.9169 - val_loss: 0.2483\n",
      "\n",
      "Hoàn tất quá trình huấn luyện!\n"
     ]
    }
   ],
   "source": [
    "# === 1. SỬ DỤNG TRANSFER LEARNING VỚI MOBILENETV2 ===\n",
    "# Tải về mô hình MobileNetV2 đã được huấn luyện trên bộ dữ liệu ImageNet\n",
    "# include_top=False có nghĩa là chúng ta không lấy lớp phân loại cuối cùng của nó\n",
    "base_model = tf.keras.applications.MobileNetV2(input_shape=(224, 224, 3),\n",
    "                                               include_top=False,\n",
    "                                               weights='imagenet')\n",
    "\n",
    "# Đóng băng các lớp của base_model để chúng không bị thay đổi trong quá trình huấn luyện\n",
    "base_model.trainable = False\n",
    "\n",
    "# In ra kiến trúc của mô hình nền\n",
    "# base_model.summary()\n",
    "\n",
    "# === 2. XÂY DỰNG \"CÁI ĐẦU\" MỚI CHO MÔ HÌNH ===\n",
    "# Chúng ta sẽ thêm các lớp phân loại của riêng mình vào phía trên base_model\n",
    "model = tf.keras.Sequential([\n",
    "    base_model, # Mô hình nền\n",
    "    tf.keras.layers.GlobalAveragePooling2D(), # Gom các đặc trưng lại\n",
    "    tf.keras.layers.Dense(128, activation='relu'), # Một lớp ẩn để học các mối quan hệ phức tạp\n",
    "    tf.keras.layers.Dropout(0.5), # Thêm dropout để giảm thiểu overfitting\n",
    "    tf.keras.layers.Dense(len(train_generator.class_indices), activation='softmax') # Lớp đầu ra, số nơ-ron bằng số lớp bệnh\n",
    "])\n",
    "\n",
    "# === 3. BIÊN DỊCH (COMPILE) MÔ HÌNH ===\n",
    "# Cấu hình các tham số cho quá trình huấn luyện\n",
    "model.compile(optimizer=tf.keras.optimizers.Adam(learning_rate=0.001),\n",
    "              loss='categorical_crossentropy',\n",
    "              metrics=['accuracy'])\n",
    "\n",
    "# In ra kiến trúc của mô hình hoàn chỉnh của chúng ta\n",
    "model.summary()\n",
    "\n",
    "\n",
    "# === 4. HUẤN LUYỆN MÔ HÌNH ===\n",
    "print(\"\\nBắt đầu quá trình huấn luyện...\")\n",
    "# Quá trình này có thể mất một lúc tùy thuộc vào sức mạnh máy tính của bạn\n",
    "EPOCHS = 10 # Chúng ta sẽ huấn luyện trong 10 vòng lặp\n",
    "\n",
    "history = model.fit(\n",
    "    train_generator,\n",
    "    epochs=EPOCHS,\n",
    "    validation_data=validation_generator\n",
    ")\n",
    "\n",
    "print(\"\\nHoàn tất quá trình huấn luyện!\")"
   ]
  },
  {
   "cell_type": "code",
   "execution_count": 5,
   "id": "17d838d5-aae7-409e-8b82-8ac66b3485ff",
   "metadata": {},
   "outputs": [
    {
     "data": {
      "image/png": "[encoded data removed]",
      "text/plain": [
       "<Figure size 1200x500 with 2 Axes>"
      ]
     },
     "metadata": {},
     "output_type": "display_data"
    }
   ],
   "source": [
    "# Lấy ra các kết quả từ quá trình huấn luyện\n",
    "acc = history.history['accuracy']\n",
    "val_acc = history.history['val_accuracy']\n",
    "loss = history.history['loss']\n",
    "val_loss = history.history['val_loss']\n",
    "\n",
    "epochs_range = range(len(acc)) # Số epoch đã chạy\n",
    "\n",
    "# Vẽ biểu đồ độ chính xác\n",
    "plt.figure(figsize=(12, 5))\n",
    "plt.subplot(1, 2, 1)\n",
    "plt.plot(epochs_range, acc, label='Training Accuracy')\n",
    "plt.plot(epochs_range, val_acc, label='Validation Accuracy')\n",
    "plt.legend(loc='lower right')\n",
    "plt.title('Training and Validation Accuracy')\n",
    "plt.xlabel('Epochs')\n",
    "plt.ylabel('Accuracy')\n",
    "\n",
    "# Vẽ biểu đồ độ lỗi\n",
    "plt.subplot(1, 2, 2)\n",
    "plt.plot(epochs_range, loss, label='Training Loss')\n",
    "plt.plot(epochs_range, val_loss, label='Validation Loss')\n",
    "plt.legend(loc='upper right')\n",
    "plt.title('Training and Validation Loss')\n",
    "plt.xlabel('Epochs')\n",
    "plt.ylabel('Loss')\n",
    "plt.show()"
   ]
  },
  {
   "cell_type": "code",
   "execution_count": 6,
   "id": "c83a4bdc-c116-46e8-9a74-cfca9235f764",
   "metadata": {},
   "outputs": [
    {
     "name": "stderr",
     "output_type": "stream",
     "text": [
      "WARNING:absl:You are saving your model as an HDF5 file via `model.save()` or `keras.saving.save_model(model)`. This file format is considered legacy. We recommend using instead the native Keras format, e.g. `model.save('my_model.keras')` or `keras.saving.save_model(model, 'my_model.keras')`. \n"
     ]
    },
    {
     "name": "stdout",
     "output_type": "stream",
     "text": [
      "Mô hình đã được lưu thành công tại: ../artifacts/plant_doctor_model.h5\n"
     ]
    }
   ],
   "source": [
    "# Lưu mô hình đã huấn luyện vào thư mục artifacts\n",
    "model_path = '../artifacts/plant_doctor_model.h5'\n",
    "model.save(model_path)\n",
    "\n",
    "print(f\"Mô hình đã được lưu thành công tại: {model_path}\")"
   ]
  },
  {
   "cell_type": "code",
   "execution_count": 7,
   "id": "b5a4243e-f543-4314-8a32-4bd72fca6815",
   "metadata": {},
   "outputs": [
    {
     "name": "stdout",
     "output_type": "stream",
     "text": [
      "Đang tải lại mô hình từ file...\n"
     ]
    },
    {
     "name": "stderr",
     "output_type": "stream",
     "text": [
      "WARNING:absl:Compiled the loaded model, but the compiled metrics have yet to be built. `model.compile_metrics` will be empty until you train or evaluate the model.\n"
     ]
    },
    {
     "name": "stdout",
     "output_type": "stream",
     "text": [
      "Tải mô hình thành công!\n",
      "\n",
      "Bắt đầu đánh giá mô hình trên tập kiểm tra...\n",
      "\u001b[1m550/550\u001b[0m \u001b[32m━━━━━━━━━━━━━━━━━━━━\u001b[0m\u001b[37m\u001b[0m \u001b[1m397s\u001b[0m 712ms/step - accuracy: 0.9156 - loss: 0.2521\n",
      "\n",
      "--- KẾT QUẢ ĐÁNH GIÁ ---\n",
      "Độ lỗi (Loss) trên tập kiểm tra: 0.2483\n",
      "Độ chính xác (Accuracy) trên tập kiểm tra: 91.69%\n"
     ]
    }
   ],
   "source": [
    "# Chạy trong Jupyter Notebook\n",
    "\n",
    "# 1. Tải lại mô hình từ file đã lưu trong thư mục artifacts\n",
    "print(\"Đang tải lại mô hình từ file...\")\n",
    "saved_model_path = '../artifacts/plant_doctor_model.h5'\n",
    "loaded_model = tf.keras.models.load_model(saved_model_path)\n",
    "print(\"Tải mô hình thành công!\")\n",
    "\n",
    "# 2. Đánh giá mô hình trên tập dữ liệu kiểm tra (validation set)\n",
    "# Chúng ta sẽ sử dụng lại validation_generator đã được tạo ở các cell trên\n",
    "# Nếu chưa có, bạn cần chạy lại cell tạo validation_generator\n",
    "print(\"\\nBắt đầu đánh giá mô hình trên tập kiểm tra...\")\n",
    "results = loaded_model.evaluate(validation_generator)\n",
    "\n",
    "print(\"\\n--- KẾT QUẢ ĐÁNH GIÁ ---\")\n",
    "print(f\"Độ lỗi (Loss) trên tập kiểm tra: {results[0]:.4f}\")\n",
    "print(f\"Độ chính xác (Accuracy) trên tập kiểm tra: {results[1]*100:.2f}%\")"
   ]
  },
  {
   "cell_type": "code",
   "execution_count": null,
   "id": "73a673d6-ec69-45f1-841b-7a21ed4300b5",
   "metadata": {},
   "outputs": [],
   "source": []
  }
 ],
 "metadata": {
  "kernelspec": {
   "display_name": "Python 3 (ipykernel)",
   "language": "python",
   "name": "python3"
  },
  "language_info": {
   "codemirror_mode": {
    "name": "ipython",
    "version": 3
   },
   "file_extension": ".py",
   "mimetype": "text/x-python",
   "name": "python",
   "nbconvert_exporter": "python",
   "pygments_lexer": "ipython3",
   "version": "3.11.9"
  }
 },
 "nbformat": 4,
 "nbformat_minor": 5
}
